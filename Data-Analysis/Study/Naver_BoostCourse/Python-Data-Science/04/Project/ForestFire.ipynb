{
 "cells": [
  {
   "cell_type": "code",
   "execution_count": 275,
   "id": "2ae82d68-d09d-441f-b952-294193f69fde",
   "metadata": {
    "execution": {
     "iopub.execute_input": "2023-11-02T11:42:35.275615Z",
     "iopub.status.busy": "2023-11-02T11:42:35.274825Z",
     "iopub.status.idle": "2023-11-02T11:42:36.663149Z",
     "shell.execute_reply": "2023-11-02T11:42:36.662884Z",
     "shell.execute_reply.started": "2023-11-02T11:42:35.275540Z"
    },
    "tags": []
   },
   "outputs": [],
   "source": [
    "import pandas as pd\n",
    "import numpy as np\n",
    "import seaborn as sns\n",
    "import matplotlib.pyplot as plt\n",
    "\n",
    "# 한글폰트 사용을 위해 설치\n",
    "# 아래 모듈을 설치하고 불러오면 별도의 한글폰트 설정이 필요 없습니다.\n",
    "# !pip install koreanize-matplotlib\n",
    "\n",
    "import koreanize_matplotlib"
   ]
  },
  {
   "cell_type": "code",
   "execution_count": 25,
   "id": "357e7d0e-d17e-4a60-b10b-4aac28ff6cdb",
   "metadata": {
    "execution": {
     "iopub.execute_input": "2023-11-01T01:02:37.090108Z",
     "iopub.status.busy": "2023-11-01T01:02:37.089698Z",
     "iopub.status.idle": "2023-11-01T01:02:37.238789Z",
     "shell.execute_reply": "2023-11-01T01:02:37.237276Z",
     "shell.execute_reply.started": "2023-11-01T01:02:37.090081Z"
    },
    "tags": []
   },
   "outputs": [
    {
     "name": "stdout",
     "output_type": "stream",
     "text": [
      "\u001b[1m\u001b[36mData\u001b[m\u001b[m/           Untitled.ipynb\n"
     ]
    }
   ],
   "source": [
    "%ls"
   ]
  },
  {
   "cell_type": "code",
   "execution_count": 295,
   "id": "e421c411-b511-479d-bb6b-c2d13c6f7d3e",
   "metadata": {
    "execution": {
     "iopub.execute_input": "2023-11-02T11:48:03.167033Z",
     "iopub.status.busy": "2023-11-02T11:48:03.165719Z",
     "iopub.status.idle": "2023-11-02T11:48:03.195831Z",
     "shell.execute_reply": "2023-11-02T11:48:03.195291Z",
     "shell.execute_reply.started": "2023-11-02T11:48:03.166961Z"
    },
    "tags": []
   },
   "outputs": [],
   "source": [
    "data = pd.read_csv(\"./Data/ForestFire.csv\")"
   ]
  },
  {
   "cell_type": "code",
   "execution_count": 296,
   "id": "59b4b726-141e-4418-b338-36a28c8f1cfd",
   "metadata": {
    "execution": {
     "iopub.execute_input": "2023-11-02T11:48:03.403688Z",
     "iopub.status.busy": "2023-11-02T11:48:03.403366Z",
     "iopub.status.idle": "2023-11-02T11:48:03.421411Z",
     "shell.execute_reply": "2023-11-02T11:48:03.420648Z",
     "shell.execute_reply.started": "2023-11-02T11:48:03.403664Z"
    },
    "tags": []
   },
   "outputs": [
    {
     "data": {
      "text/html": [
       "<div>\n",
       "<style scoped>\n",
       "    .dataframe tbody tr th:only-of-type {\n",
       "        vertical-align: middle;\n",
       "    }\n",
       "\n",
       "    .dataframe tbody tr th {\n",
       "        vertical-align: top;\n",
       "    }\n",
       "\n",
       "    .dataframe thead th {\n",
       "        text-align: right;\n",
       "    }\n",
       "</style>\n",
       "<table border=\"1\" class=\"dataframe\">\n",
       "  <thead>\n",
       "    <tr style=\"text-align: right;\">\n",
       "      <th></th>\n",
       "      <th>원인별</th>\n",
       "      <th>시점</th>\n",
       "      <th>월별</th>\n",
       "      <th>데이터</th>\n",
       "    </tr>\n",
       "  </thead>\n",
       "  <tbody>\n",
       "    <tr>\n",
       "      <th>0</th>\n",
       "      <td>계</td>\n",
       "      <td>2010</td>\n",
       "      <td>합계</td>\n",
       "      <td>282</td>\n",
       "    </tr>\n",
       "    <tr>\n",
       "      <th>1</th>\n",
       "      <td>계</td>\n",
       "      <td>2010</td>\n",
       "      <td>1월</td>\n",
       "      <td>24</td>\n",
       "    </tr>\n",
       "    <tr>\n",
       "      <th>2</th>\n",
       "      <td>계</td>\n",
       "      <td>2010</td>\n",
       "      <td>2월</td>\n",
       "      <td>30</td>\n",
       "    </tr>\n",
       "    <tr>\n",
       "      <th>3</th>\n",
       "      <td>계</td>\n",
       "      <td>2010</td>\n",
       "      <td>3월</td>\n",
       "      <td>22</td>\n",
       "    </tr>\n",
       "    <tr>\n",
       "      <th>4</th>\n",
       "      <td>계</td>\n",
       "      <td>2010</td>\n",
       "      <td>4월</td>\n",
       "      <td>51</td>\n",
       "    </tr>\n",
       "    <tr>\n",
       "      <th>...</th>\n",
       "      <td>...</td>\n",
       "      <td>...</td>\n",
       "      <td>...</td>\n",
       "      <td>...</td>\n",
       "    </tr>\n",
       "    <tr>\n",
       "      <th>1000</th>\n",
       "      <td>기타</td>\n",
       "      <td>2022</td>\n",
       "      <td>7월</td>\n",
       "      <td>1</td>\n",
       "    </tr>\n",
       "    <tr>\n",
       "      <th>1001</th>\n",
       "      <td>기타</td>\n",
       "      <td>2022</td>\n",
       "      <td>9월</td>\n",
       "      <td>5</td>\n",
       "    </tr>\n",
       "    <tr>\n",
       "      <th>1002</th>\n",
       "      <td>기타</td>\n",
       "      <td>2022</td>\n",
       "      <td>10월</td>\n",
       "      <td>10</td>\n",
       "    </tr>\n",
       "    <tr>\n",
       "      <th>1003</th>\n",
       "      <td>기타</td>\n",
       "      <td>2022</td>\n",
       "      <td>11월</td>\n",
       "      <td>18</td>\n",
       "    </tr>\n",
       "    <tr>\n",
       "      <th>1004</th>\n",
       "      <td>기타</td>\n",
       "      <td>2022</td>\n",
       "      <td>12월</td>\n",
       "      <td>9</td>\n",
       "    </tr>\n",
       "  </tbody>\n",
       "</table>\n",
       "<p>1005 rows × 4 columns</p>\n",
       "</div>"
      ],
      "text/plain": [
       "     원인별    시점   월별  데이터\n",
       "0      계  2010   합계  282\n",
       "1      계  2010   1월   24\n",
       "2      계  2010   2월   30\n",
       "3      계  2010   3월   22\n",
       "4      계  2010   4월   51\n",
       "...   ..   ...  ...  ...\n",
       "1000  기타  2022   7월    1\n",
       "1001  기타  2022   9월    5\n",
       "1002  기타  2022  10월   10\n",
       "1003  기타  2022  11월   18\n",
       "1004  기타  2022  12월    9\n",
       "\n",
       "[1005 rows x 4 columns]"
      ]
     },
     "execution_count": 296,
     "metadata": {},
     "output_type": "execute_result"
    }
   ],
   "source": [
    "data"
   ]
  },
  {
   "cell_type": "code",
   "execution_count": 285,
   "id": "8492df0c-df6a-415a-aff2-0ec87d357d97",
   "metadata": {
    "execution": {
     "iopub.execute_input": "2023-11-02T11:44:31.766432Z",
     "iopub.status.busy": "2023-11-02T11:44:31.765061Z",
     "iopub.status.idle": "2023-11-02T11:44:31.780663Z",
     "shell.execute_reply": "2023-11-02T11:44:31.779957Z",
     "shell.execute_reply.started": "2023-11-02T11:44:31.766360Z"
    },
    "tags": []
   },
   "outputs": [],
   "source": [
    "data = data.drop(['원인별'], axis=1)"
   ]
  },
  {
   "cell_type": "code",
   "execution_count": 286,
   "id": "bd3620f4-f2cd-4864-ac79-76496e13d750",
   "metadata": {
    "execution": {
     "iopub.execute_input": "2023-11-02T11:44:52.262555Z",
     "iopub.status.busy": "2023-11-02T11:44:52.261061Z",
     "iopub.status.idle": "2023-11-02T11:44:52.282978Z",
     "shell.execute_reply": "2023-11-02T11:44:52.282496Z",
     "shell.execute_reply.started": "2023-11-02T11:44:52.262474Z"
    },
    "tags": []
   },
   "outputs": [
    {
     "data": {
      "text/html": [
       "<div>\n",
       "<style scoped>\n",
       "    .dataframe tbody tr th:only-of-type {\n",
       "        vertical-align: middle;\n",
       "    }\n",
       "\n",
       "    .dataframe tbody tr th {\n",
       "        vertical-align: top;\n",
       "    }\n",
       "\n",
       "    .dataframe thead th {\n",
       "        text-align: right;\n",
       "    }\n",
       "</style>\n",
       "<table border=\"1\" class=\"dataframe\">\n",
       "  <thead>\n",
       "    <tr style=\"text-align: right;\">\n",
       "      <th></th>\n",
       "      <th>시점</th>\n",
       "      <th>월별</th>\n",
       "      <th>데이터</th>\n",
       "    </tr>\n",
       "  </thead>\n",
       "  <tbody>\n",
       "    <tr>\n",
       "      <th>0</th>\n",
       "      <td>2010</td>\n",
       "      <td>합계</td>\n",
       "      <td>282</td>\n",
       "    </tr>\n",
       "    <tr>\n",
       "      <th>1</th>\n",
       "      <td>2010</td>\n",
       "      <td>1월</td>\n",
       "      <td>24</td>\n",
       "    </tr>\n",
       "    <tr>\n",
       "      <th>2</th>\n",
       "      <td>2010</td>\n",
       "      <td>2월</td>\n",
       "      <td>30</td>\n",
       "    </tr>\n",
       "    <tr>\n",
       "      <th>3</th>\n",
       "      <td>2010</td>\n",
       "      <td>3월</td>\n",
       "      <td>22</td>\n",
       "    </tr>\n",
       "    <tr>\n",
       "      <th>4</th>\n",
       "      <td>2010</td>\n",
       "      <td>4월</td>\n",
       "      <td>51</td>\n",
       "    </tr>\n",
       "    <tr>\n",
       "      <th>...</th>\n",
       "      <td>...</td>\n",
       "      <td>...</td>\n",
       "      <td>...</td>\n",
       "    </tr>\n",
       "    <tr>\n",
       "      <th>1000</th>\n",
       "      <td>2022</td>\n",
       "      <td>7월</td>\n",
       "      <td>1</td>\n",
       "    </tr>\n",
       "    <tr>\n",
       "      <th>1001</th>\n",
       "      <td>2022</td>\n",
       "      <td>9월</td>\n",
       "      <td>5</td>\n",
       "    </tr>\n",
       "    <tr>\n",
       "      <th>1002</th>\n",
       "      <td>2022</td>\n",
       "      <td>10월</td>\n",
       "      <td>10</td>\n",
       "    </tr>\n",
       "    <tr>\n",
       "      <th>1003</th>\n",
       "      <td>2022</td>\n",
       "      <td>11월</td>\n",
       "      <td>18</td>\n",
       "    </tr>\n",
       "    <tr>\n",
       "      <th>1004</th>\n",
       "      <td>2022</td>\n",
       "      <td>12월</td>\n",
       "      <td>9</td>\n",
       "    </tr>\n",
       "  </tbody>\n",
       "</table>\n",
       "<p>1005 rows × 3 columns</p>\n",
       "</div>"
      ],
      "text/plain": [
       "        시점   월별  데이터\n",
       "0     2010   합계  282\n",
       "1     2010   1월   24\n",
       "2     2010   2월   30\n",
       "3     2010   3월   22\n",
       "4     2010   4월   51\n",
       "...    ...  ...  ...\n",
       "1000  2022   7월    1\n",
       "1001  2022   9월    5\n",
       "1002  2022  10월   10\n",
       "1003  2022  11월   18\n",
       "1004  2022  12월    9\n",
       "\n",
       "[1005 rows x 3 columns]"
      ]
     },
     "execution_count": 286,
     "metadata": {},
     "output_type": "execute_result"
    }
   ],
   "source": [
    "data"
   ]
  },
  {
   "cell_type": "code",
   "execution_count": 287,
   "id": "f8cce05a-adf1-48e1-91a2-e84fb0df538a",
   "metadata": {
    "execution": {
     "iopub.execute_input": "2023-11-02T11:45:13.951962Z",
     "iopub.status.busy": "2023-11-02T11:45:13.945683Z",
     "iopub.status.idle": "2023-11-02T11:45:13.985277Z",
     "shell.execute_reply": "2023-11-02T11:45:13.984580Z",
     "shell.execute_reply.started": "2023-11-02T11:45:13.951785Z"
    },
    "tags": []
   },
   "outputs": [],
   "source": [
    "data['월별'] = data['월별'].str.split(\"월\").str[0]"
   ]
  },
  {
   "cell_type": "code",
   "execution_count": 290,
   "id": "836e83ea-5eb5-414f-88fc-2c6a14edd8c5",
   "metadata": {
    "execution": {
     "iopub.execute_input": "2023-11-02T11:45:31.815843Z",
     "iopub.status.busy": "2023-11-02T11:45:31.815088Z",
     "iopub.status.idle": "2023-11-02T11:45:31.824840Z",
     "shell.execute_reply": "2023-11-02T11:45:31.823911Z",
     "shell.execute_reply.started": "2023-11-02T11:45:31.815795Z"
    },
    "tags": []
   },
   "outputs": [],
   "source": [
    "data = data.drop([0])"
   ]
  },
  {
   "cell_type": "code",
   "execution_count": 292,
   "id": "ac280150-5e21-4d92-b307-90ffde649375",
   "metadata": {
    "execution": {
     "iopub.execute_input": "2023-11-02T11:46:07.003391Z",
     "iopub.status.busy": "2023-11-02T11:46:07.002356Z",
     "iopub.status.idle": "2023-11-02T11:46:07.018390Z",
     "shell.execute_reply": "2023-11-02T11:46:07.017498Z",
     "shell.execute_reply.started": "2023-11-02T11:46:07.003345Z"
    },
    "tags": []
   },
   "outputs": [],
   "source": [
    "data = data[data['월별'] == '1']"
   ]
  },
  {
   "cell_type": "code",
   "execution_count": 293,
   "id": "2c7bea46-3480-4a22-8a28-90e4a99fd7d8",
   "metadata": {
    "execution": {
     "iopub.execute_input": "2023-11-02T11:46:14.089235Z",
     "iopub.status.busy": "2023-11-02T11:46:14.088682Z",
     "iopub.status.idle": "2023-11-02T11:46:14.106505Z",
     "shell.execute_reply": "2023-11-02T11:46:14.105725Z",
     "shell.execute_reply.started": "2023-11-02T11:46:14.089196Z"
    },
    "tags": []
   },
   "outputs": [
    {
     "data": {
      "text/html": [
       "<div>\n",
       "<style scoped>\n",
       "    .dataframe tbody tr th:only-of-type {\n",
       "        vertical-align: middle;\n",
       "    }\n",
       "\n",
       "    .dataframe tbody tr th {\n",
       "        vertical-align: top;\n",
       "    }\n",
       "\n",
       "    .dataframe thead th {\n",
       "        text-align: right;\n",
       "    }\n",
       "</style>\n",
       "<table border=\"1\" class=\"dataframe\">\n",
       "  <thead>\n",
       "    <tr style=\"text-align: right;\">\n",
       "      <th></th>\n",
       "      <th>시점</th>\n",
       "      <th>월별</th>\n",
       "      <th>데이터</th>\n",
       "    </tr>\n",
       "  </thead>\n",
       "  <tbody>\n",
       "    <tr>\n",
       "      <th>1</th>\n",
       "      <td>2010</td>\n",
       "      <td>1</td>\n",
       "      <td>24</td>\n",
       "    </tr>\n",
       "    <tr>\n",
       "      <th>11</th>\n",
       "      <td>2011</td>\n",
       "      <td>1</td>\n",
       "      <td>33</td>\n",
       "    </tr>\n",
       "    <tr>\n",
       "      <th>21</th>\n",
       "      <td>2012</td>\n",
       "      <td>1</td>\n",
       "      <td>6</td>\n",
       "    </tr>\n",
       "    <tr>\n",
       "      <th>33</th>\n",
       "      <td>2013</td>\n",
       "      <td>1</td>\n",
       "      <td>7</td>\n",
       "    </tr>\n",
       "    <tr>\n",
       "      <th>45</th>\n",
       "      <td>2014</td>\n",
       "      <td>1</td>\n",
       "      <td>49</td>\n",
       "    </tr>\n",
       "    <tr>\n",
       "      <th>...</th>\n",
       "      <td>...</td>\n",
       "      <td>...</td>\n",
       "      <td>...</td>\n",
       "    </tr>\n",
       "    <tr>\n",
       "      <th>948</th>\n",
       "      <td>2018</td>\n",
       "      <td>1</td>\n",
       "      <td>6</td>\n",
       "    </tr>\n",
       "    <tr>\n",
       "      <th>960</th>\n",
       "      <td>2019</td>\n",
       "      <td>1</td>\n",
       "      <td>51</td>\n",
       "    </tr>\n",
       "    <tr>\n",
       "      <th>972</th>\n",
       "      <td>2020</td>\n",
       "      <td>1</td>\n",
       "      <td>9</td>\n",
       "    </tr>\n",
       "    <tr>\n",
       "      <th>983</th>\n",
       "      <td>2021</td>\n",
       "      <td>1</td>\n",
       "      <td>20</td>\n",
       "    </tr>\n",
       "    <tr>\n",
       "      <th>994</th>\n",
       "      <td>2022</td>\n",
       "      <td>1</td>\n",
       "      <td>36</td>\n",
       "    </tr>\n",
       "  </tbody>\n",
       "</table>\n",
       "<p>89 rows × 3 columns</p>\n",
       "</div>"
      ],
      "text/plain": [
       "       시점 월별  데이터\n",
       "1    2010  1   24\n",
       "11   2011  1   33\n",
       "21   2012  1    6\n",
       "33   2013  1    7\n",
       "45   2014  1   49\n",
       "..    ... ..  ...\n",
       "948  2018  1    6\n",
       "960  2019  1   51\n",
       "972  2020  1    9\n",
       "983  2021  1   20\n",
       "994  2022  1   36\n",
       "\n",
       "[89 rows x 3 columns]"
      ]
     },
     "execution_count": 293,
     "metadata": {},
     "output_type": "execute_result"
    }
   ],
   "source": [
    "data"
   ]
  },
  {
   "cell_type": "code",
   "execution_count": 294,
   "id": "fe9b7106-8557-4a63-98f3-dc36b31b3d48",
   "metadata": {
    "execution": {
     "iopub.execute_input": "2023-11-02T11:46:23.671603Z",
     "iopub.status.busy": "2023-11-02T11:46:23.670302Z",
     "iopub.status.idle": "2023-11-02T11:46:23.901611Z",
     "shell.execute_reply": "2023-11-02T11:46:23.900781Z",
     "shell.execute_reply.started": "2023-11-02T11:46:23.671534Z"
    },
    "tags": []
   },
   "outputs": [
    {
     "name": "stderr",
     "output_type": "stream",
     "text": [
      "/var/folders/fy/h0_mgq7926d7ggr2rkt29cz80000gn/T/ipykernel_51853/3463939651.py:4: FutureWarning: \n",
      "\n",
      "The `ci` parameter is deprecated. Use `errorbar=('ci', 0)` for the same effect.\n",
      "\n",
      "  sns.lineplot(data=data, x='시점', y='데이터', ci=0)\n"
     ]
    },
    {
     "data": {
      "text/plain": [
       "<Axes: xlabel='시점', ylabel='데이터'>"
      ]
     },
     "execution_count": 294,
     "metadata": {},
     "output_type": "execute_result"
    },
    {
     "data": {
      "image/png": "[encoded data removed]",
      "text/plain": [
       "<Figure size 1000x700 with 1 Axes>"
      ]
     },
     "metadata": {},
     "output_type": "display_data"
    }
   ],
   "source": [
    "plt.figure(figsize=(10, 7))\n",
    "plt.gca().set_facecolor('none')\n",
    "\n",
    "sns.lineplot(data=data, x='시점', y='데이터', ci=0)\n"
   ]
  }
 ],
 "metadata": {
  "kernelspec": {
   "display_name": "Python 3 (ipykernel)",
   "language": "python",
   "name": "python3"
  },
  "language_info": {
   "codemirror_mode": {
    "name": "ipython",
    "version": 3
   },
   "file_extension": ".py",
   "mimetype": "text/x-python",
   "name": "python",
   "nbconvert_exporter": "python",
   "pygments_lexer": "ipython3",
   "version": "3.11.5"
  }
 },
 "nbformat": 4,
 "nbformat_minor": 5
}
