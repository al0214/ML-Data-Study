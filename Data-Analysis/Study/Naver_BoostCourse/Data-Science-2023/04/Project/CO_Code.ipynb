{
 "cells": [
  {
   "cell_type": "code",
   "execution_count": 71,
   "id": "ec4bf335-0edd-4152-af15-2b1415aa3466",
   "metadata": {
    "execution": {
     "iopub.execute_input": "2023-11-02T03:11:07.835001Z",
     "iopub.status.busy": "2023-11-02T03:11:07.824445Z",
     "iopub.status.idle": "2023-11-02T03:11:07.858266Z",
     "shell.execute_reply": "2023-11-02T03:11:07.857476Z",
     "shell.execute_reply.started": "2023-11-02T03:11:07.834870Z"
    },
    "tags": []
   },
   "outputs": [],
   "source": [
    "import pandas as pd\n",
    "import numpy as np\n",
    "import seaborn as sns\n",
    "import matplotlib.pyplot as plt\n",
    "\n",
    "# 한글폰트 사용을 위해 설치\n",
    "# 아래 모듈을 설치하고 불러오면 별도의 한글폰트 설정이 필요 없습니다.\n",
    "# !pip install koreanize-matplotlib\n",
    "\n",
    "import koreanize_matplotlib"
   ]
  },
  {
   "cell_type": "code",
   "execution_count": 72,
   "id": "dc3af746-4556-4b86-a855-b3a1b9e33534",
   "metadata": {
    "execution": {
     "iopub.execute_input": "2023-11-02T03:11:07.975337Z",
     "iopub.status.busy": "2023-11-02T03:11:07.974875Z",
     "iopub.status.idle": "2023-11-02T03:11:08.144389Z",
     "shell.execute_reply": "2023-11-02T03:11:08.142870Z",
     "shell.execute_reply.started": "2023-11-02T03:11:07.975309Z"
    },
    "tags": []
   },
   "outputs": [
    {
     "name": "stdout",
     "output_type": "stream",
     "text": [
      "CS01.csv       CS02.csv       Untitled.ipynb\n"
     ]
    }
   ],
   "source": [
    "!ls"
   ]
  },
  {
   "cell_type": "code",
   "execution_count": 73,
   "id": "7db6507b-0e20-4699-ab38-047d43bdcc66",
   "metadata": {
    "execution": {
     "iopub.execute_input": "2023-11-02T03:11:08.766011Z",
     "iopub.status.busy": "2023-11-02T03:11:08.765705Z",
     "iopub.status.idle": "2023-11-02T03:11:08.798226Z",
     "shell.execute_reply": "2023-11-02T03:11:08.797719Z",
     "shell.execute_reply.started": "2023-11-02T03:11:08.765988Z"
    },
    "tags": []
   },
   "outputs": [],
   "source": [
    "CS01 = pd.read_csv(\"CS01.csv\")\n",
    "CS02 = pd.read_csv(\"CS02.csv\")"
   ]
  },
  {
   "cell_type": "code",
   "execution_count": 74,
   "id": "7c8374f4-2499-45ac-b0bf-585a3a3f18d9",
   "metadata": {
    "execution": {
     "iopub.execute_input": "2023-11-02T03:11:09.148164Z",
     "iopub.status.busy": "2023-11-02T03:11:09.147571Z",
     "iopub.status.idle": "2023-11-02T03:11:09.165899Z",
     "shell.execute_reply": "2023-11-02T03:11:09.165305Z",
     "shell.execute_reply.started": "2023-11-02T03:11:09.148118Z"
    },
    "tags": []
   },
   "outputs": [
    {
     "data": {
      "text/html": [
       "<div>\n",
       "<style scoped>\n",
       "    .dataframe tbody tr th:only-of-type {\n",
       "        vertical-align: middle;\n",
       "    }\n",
       "\n",
       "    .dataframe tbody tr th {\n",
       "        vertical-align: top;\n",
       "    }\n",
       "\n",
       "    .dataframe thead th {\n",
       "        text-align: right;\n",
       "    }\n",
       "</style>\n",
       "<table border=\"1\" class=\"dataframe\">\n",
       "  <thead>\n",
       "    <tr style=\"text-align: right;\">\n",
       "      <th></th>\n",
       "      <th>구분(1)</th>\n",
       "      <th>구분(2)</th>\n",
       "      <th>시점</th>\n",
       "      <th>데이터</th>\n",
       "    </tr>\n",
       "  </thead>\n",
       "  <tbody>\n",
       "    <tr>\n",
       "      <th>0</th>\n",
       "      <td>총계</td>\n",
       "      <td>소계</td>\n",
       "      <td>2015.01</td>\n",
       "      <td>0.70</td>\n",
       "    </tr>\n",
       "    <tr>\n",
       "      <th>1</th>\n",
       "      <td>총계</td>\n",
       "      <td>소계</td>\n",
       "      <td>2015.02</td>\n",
       "      <td>0.60</td>\n",
       "    </tr>\n",
       "    <tr>\n",
       "      <th>2</th>\n",
       "      <td>총계</td>\n",
       "      <td>소계</td>\n",
       "      <td>2015.03</td>\n",
       "      <td>0.60</td>\n",
       "    </tr>\n",
       "    <tr>\n",
       "      <th>3</th>\n",
       "      <td>총계</td>\n",
       "      <td>소계</td>\n",
       "      <td>2015.04</td>\n",
       "      <td>0.50</td>\n",
       "    </tr>\n",
       "    <tr>\n",
       "      <th>4</th>\n",
       "      <td>총계</td>\n",
       "      <td>소계</td>\n",
       "      <td>2015.05</td>\n",
       "      <td>0.40</td>\n",
       "    </tr>\n",
       "    <tr>\n",
       "      <th>...</th>\n",
       "      <td>...</td>\n",
       "      <td>...</td>\n",
       "      <td>...</td>\n",
       "      <td>...</td>\n",
       "    </tr>\n",
       "    <tr>\n",
       "      <th>12733</th>\n",
       "      <td>제주특별자치도</td>\n",
       "      <td>도평균</td>\n",
       "      <td>2022.08</td>\n",
       "      <td>0.30</td>\n",
       "    </tr>\n",
       "    <tr>\n",
       "      <th>12734</th>\n",
       "      <td>제주특별자치도</td>\n",
       "      <td>도평균</td>\n",
       "      <td>2022.09</td>\n",
       "      <td>0.20</td>\n",
       "    </tr>\n",
       "    <tr>\n",
       "      <th>12735</th>\n",
       "      <td>제주특별자치도</td>\n",
       "      <td>도평균</td>\n",
       "      <td>2022.10</td>\n",
       "      <td>0.20</td>\n",
       "    </tr>\n",
       "    <tr>\n",
       "      <th>12736</th>\n",
       "      <td>제주특별자치도</td>\n",
       "      <td>도평균</td>\n",
       "      <td>2022.11</td>\n",
       "      <td>0.30</td>\n",
       "    </tr>\n",
       "    <tr>\n",
       "      <th>12737</th>\n",
       "      <td>제주특별자치도</td>\n",
       "      <td>도평균</td>\n",
       "      <td>2022.12</td>\n",
       "      <td>0.30</td>\n",
       "    </tr>\n",
       "  </tbody>\n",
       "</table>\n",
       "<p>12738 rows × 4 columns</p>\n",
       "</div>"
      ],
      "text/plain": [
       "         구분(1) 구분(2)       시점   데이터\n",
       "0           총계    소계  2015.01  0.70\n",
       "1           총계    소계  2015.02  0.60\n",
       "2           총계    소계  2015.03  0.60\n",
       "3           총계    소계  2015.04  0.50\n",
       "4           총계    소계  2015.05  0.40\n",
       "...        ...   ...      ...   ...\n",
       "12733  제주특별자치도   도평균  2022.08  0.30\n",
       "12734  제주특별자치도   도평균  2022.09  0.20\n",
       "12735  제주특별자치도   도평균  2022.10  0.20\n",
       "12736  제주특별자치도   도평균  2022.11  0.30\n",
       "12737  제주특별자치도   도평균  2022.12  0.30\n",
       "\n",
       "[12738 rows x 4 columns]"
      ]
     },
     "execution_count": 74,
     "metadata": {},
     "output_type": "execute_result"
    }
   ],
   "source": [
    "CS01"
   ]
  },
  {
   "cell_type": "code",
   "execution_count": 75,
   "id": "780885b8-a0bc-4b21-9407-5ce85f4b8fbb",
   "metadata": {
    "execution": {
     "iopub.execute_input": "2023-11-02T03:11:09.638199Z",
     "iopub.status.busy": "2023-11-02T03:11:09.637862Z",
     "iopub.status.idle": "2023-11-02T03:11:09.645597Z",
     "shell.execute_reply": "2023-11-02T03:11:09.644592Z",
     "shell.execute_reply.started": "2023-11-02T03:11:09.638176Z"
    },
    "tags": []
   },
   "outputs": [],
   "source": [
    "CS01 = CS01.drop(['구분(2)'], axis=1)"
   ]
  },
  {
   "cell_type": "code",
   "execution_count": 76,
   "id": "bf899fa0-7254-4161-85b0-a3a1756ca6d4",
   "metadata": {
    "execution": {
     "iopub.execute_input": "2023-11-02T03:11:09.816455Z",
     "iopub.status.busy": "2023-11-02T03:11:09.815916Z",
     "iopub.status.idle": "2023-11-02T03:11:09.822961Z",
     "shell.execute_reply": "2023-11-02T03:11:09.822318Z",
     "shell.execute_reply.started": "2023-11-02T03:11:09.816414Z"
    },
    "tags": []
   },
   "outputs": [],
   "source": [
    "CS02 = CS02.drop(['구분(2)'], axis=1)"
   ]
  },
  {
   "cell_type": "code",
   "execution_count": 77,
   "id": "5c979765-d25f-4867-930d-4b866e9f6e5a",
   "metadata": {
    "execution": {
     "iopub.execute_input": "2023-11-02T03:11:09.982619Z",
     "iopub.status.busy": "2023-11-02T03:11:09.982216Z",
     "iopub.status.idle": "2023-11-02T03:11:10.003148Z",
     "shell.execute_reply": "2023-11-02T03:11:10.002607Z",
     "shell.execute_reply.started": "2023-11-02T03:11:09.982591Z"
    },
    "tags": []
   },
   "outputs": [],
   "source": [
    "CS01 = CS01[~CS01['구분(1)'].str.contains('총계')]\n",
    "CS02 = CS02[~CS02['구분(1)'].str.contains('총계')]"
   ]
  },
  {
   "cell_type": "code",
   "execution_count": 78,
   "id": "e3a8bde5-3010-48e5-892c-7af68646e637",
   "metadata": {
    "execution": {
     "iopub.execute_input": "2023-11-02T03:11:10.143395Z",
     "iopub.status.busy": "2023-11-02T03:11:10.142899Z",
     "iopub.status.idle": "2023-11-02T03:11:10.152905Z",
     "shell.execute_reply": "2023-11-02T03:11:10.152346Z",
     "shell.execute_reply.started": "2023-11-02T03:11:10.143358Z"
    },
    "tags": []
   },
   "outputs": [],
   "source": [
    "CS01 = CS01.reset_index().drop([\"index\"], axis=1)\n",
    "CS02 = CS02.reset_index().drop([\"index\"], axis=1)"
   ]
  },
  {
   "cell_type": "code",
   "execution_count": 79,
   "id": "fd80e260-2c62-44ec-8cc4-97a623012be9",
   "metadata": {
    "execution": {
     "iopub.execute_input": "2023-11-02T03:11:10.354789Z",
     "iopub.status.busy": "2023-11-02T03:11:10.354297Z",
     "iopub.status.idle": "2023-11-02T03:11:10.364494Z",
     "shell.execute_reply": "2023-11-02T03:11:10.363846Z",
     "shell.execute_reply.started": "2023-11-02T03:11:10.354762Z"
    },
    "tags": []
   },
   "outputs": [],
   "source": [
    "CS = pd.concat([CS01, CS02], axis=0, ignore_index=True)"
   ]
  },
  {
   "cell_type": "code",
   "execution_count": 80,
   "id": "7e7acaea-b7ca-4096-a71c-25a998f36bbf",
   "metadata": {
    "execution": {
     "iopub.execute_input": "2023-11-02T03:11:10.489584Z",
     "iopub.status.busy": "2023-11-02T03:11:10.489286Z",
     "iopub.status.idle": "2023-11-02T03:11:10.511924Z",
     "shell.execute_reply": "2023-11-02T03:11:10.511195Z",
     "shell.execute_reply.started": "2023-11-02T03:11:10.489562Z"
    },
    "tags": []
   },
   "outputs": [],
   "source": [
    "CS['시점'] = CS['시점'].astype(str)"
   ]
  },
  {
   "cell_type": "code",
   "execution_count": 81,
   "id": "e67795b0-be9f-4b98-be14-33a2397eb5bb",
   "metadata": {
    "execution": {
     "iopub.execute_input": "2023-11-02T03:11:10.666789Z",
     "iopub.status.busy": "2023-11-02T03:11:10.666258Z",
     "iopub.status.idle": "2023-11-02T03:11:10.696340Z",
     "shell.execute_reply": "2023-11-02T03:11:10.695985Z",
     "shell.execute_reply.started": "2023-11-02T03:11:10.666751Z"
    },
    "tags": []
   },
   "outputs": [
    {
     "data": {
      "text/plain": [
       "0        2015\n",
       "1        2015\n",
       "2        2015\n",
       "3        2015\n",
       "4        2015\n",
       "         ... \n",
       "17854    2014\n",
       "17855    2014\n",
       "17856    2014\n",
       "17857    2014\n",
       "17858    2014\n",
       "Name: 시점, Length: 17859, dtype: object"
      ]
     },
     "execution_count": 81,
     "metadata": {},
     "output_type": "execute_result"
    }
   ],
   "source": [
    "CS['시점'].str.split(\".\").str[0]"
   ]
  },
  {
   "cell_type": "code",
   "execution_count": 82,
   "id": "38aa3c75-7111-432e-8168-20e901a4396d",
   "metadata": {
    "execution": {
     "iopub.execute_input": "2023-11-02T03:11:10.839720Z",
     "iopub.status.busy": "2023-11-02T03:11:10.839198Z",
     "iopub.status.idle": "2023-11-02T03:11:10.867233Z",
     "shell.execute_reply": "2023-11-02T03:11:10.866775Z",
     "shell.execute_reply.started": "2023-11-02T03:11:10.839682Z"
    },
    "tags": []
   },
   "outputs": [
    {
     "data": {
      "text/plain": [
       "'01'"
      ]
     },
     "execution_count": 82,
     "metadata": {},
     "output_type": "execute_result"
    }
   ],
   "source": [
    "CS['시점'].str.split(\".\").str[1][0]"
   ]
  },
  {
   "cell_type": "code",
   "execution_count": 83,
   "id": "dac0714c-5e9b-4af4-9cf6-e7db61216e22",
   "metadata": {
    "execution": {
     "iopub.execute_input": "2023-11-02T03:11:11.031126Z",
     "iopub.status.busy": "2023-11-02T03:11:11.030574Z",
     "iopub.status.idle": "2023-11-02T03:11:11.040806Z",
     "shell.execute_reply": "2023-11-02T03:11:11.039923Z",
     "shell.execute_reply.started": "2023-11-02T03:11:11.031080Z"
    },
    "tags": []
   },
   "outputs": [],
   "source": [
    "TimeCount = CS['시점'].count()"
   ]
  },
  {
   "cell_type": "code",
   "execution_count": 84,
   "id": "7bb727aa-d2cf-4678-b8f0-7bf918f9769d",
   "metadata": {
    "execution": {
     "iopub.execute_input": "2023-11-02T03:11:11.436191Z",
     "iopub.status.busy": "2023-11-02T03:11:11.435834Z",
     "iopub.status.idle": "2023-11-02T03:11:11.440814Z",
     "shell.execute_reply": "2023-11-02T03:11:11.440262Z",
     "shell.execute_reply.started": "2023-11-02T03:11:11.436143Z"
    },
    "tags": []
   },
   "outputs": [
    {
     "data": {
      "text/plain": [
       "17859"
      ]
     },
     "execution_count": 84,
     "metadata": {},
     "output_type": "execute_result"
    }
   ],
   "source": [
    "TimeCount"
   ]
  },
  {
   "cell_type": "code",
   "execution_count": 85,
   "id": "bedd6e62-5ec7-44e2-b153-4826efddc239",
   "metadata": {
    "execution": {
     "iopub.execute_input": "2023-11-02T03:11:11.619385Z",
     "iopub.status.busy": "2023-11-02T03:11:11.618853Z",
     "iopub.status.idle": "2023-11-02T03:11:11.626794Z",
     "shell.execute_reply": "2023-11-02T03:11:11.625933Z",
     "shell.execute_reply.started": "2023-11-02T03:11:11.619347Z"
    },
    "tags": []
   },
   "outputs": [],
   "source": [
    "a = []"
   ]
  },
  {
   "cell_type": "code",
   "execution_count": 86,
   "id": "699ba807-5642-40dc-8eba-a37f2ca12025",
   "metadata": {
    "execution": {
     "iopub.execute_input": "2023-11-02T03:11:11.909028Z",
     "iopub.status.busy": "2023-11-02T03:11:11.908709Z",
     "iopub.status.idle": "2023-11-02T03:11:12.099972Z",
     "shell.execute_reply": "2023-11-02T03:11:12.099717Z",
     "shell.execute_reply.started": "2023-11-02T03:11:11.909008Z"
    },
    "tags": []
   },
   "outputs": [],
   "source": [
    "CS['월'] = CS['시점'].str.split('.').str[1].str.zfill(2).tolist()"
   ]
  },
  {
   "cell_type": "code",
   "execution_count": 87,
   "id": "da54fe92-90f3-44fb-8e56-e5041c6b6ece",
   "metadata": {
    "execution": {
     "iopub.execute_input": "2023-11-02T03:11:12.242912Z",
     "iopub.status.busy": "2023-11-02T03:11:12.242471Z",
     "iopub.status.idle": "2023-11-02T03:11:12.262572Z",
     "shell.execute_reply": "2023-11-02T03:11:12.261762Z",
     "shell.execute_reply.started": "2023-11-02T03:11:12.242885Z"
    },
    "tags": []
   },
   "outputs": [],
   "source": [
    "CS['연도'] = CS['시점'].str.split(\".\").str[0]"
   ]
  },
  {
   "cell_type": "code",
   "execution_count": 88,
   "id": "f8938ab4-47b8-4f7f-a199-3ecbbeb94662",
   "metadata": {
    "execution": {
     "iopub.execute_input": "2023-11-02T03:11:12.658261Z",
     "iopub.status.busy": "2023-11-02T03:11:12.657706Z",
     "iopub.status.idle": "2023-11-02T03:11:12.676282Z",
     "shell.execute_reply": "2023-11-02T03:11:12.675571Z",
     "shell.execute_reply.started": "2023-11-02T03:11:12.658219Z"
    },
    "tags": []
   },
   "outputs": [
    {
     "data": {
      "text/html": [
       "<div>\n",
       "<style scoped>\n",
       "    .dataframe tbody tr th:only-of-type {\n",
       "        vertical-align: middle;\n",
       "    }\n",
       "\n",
       "    .dataframe tbody tr th {\n",
       "        vertical-align: top;\n",
       "    }\n",
       "\n",
       "    .dataframe thead th {\n",
       "        text-align: right;\n",
       "    }\n",
       "</style>\n",
       "<table border=\"1\" class=\"dataframe\">\n",
       "  <thead>\n",
       "    <tr style=\"text-align: right;\">\n",
       "      <th></th>\n",
       "      <th>구분(1)</th>\n",
       "      <th>시점</th>\n",
       "      <th>데이터</th>\n",
       "      <th>월</th>\n",
       "      <th>연도</th>\n",
       "    </tr>\n",
       "  </thead>\n",
       "  <tbody>\n",
       "    <tr>\n",
       "      <th>0</th>\n",
       "      <td>서울특별시</td>\n",
       "      <td>2015.01</td>\n",
       "      <td>0.70</td>\n",
       "      <td>01</td>\n",
       "      <td>2015</td>\n",
       "    </tr>\n",
       "    <tr>\n",
       "      <th>1</th>\n",
       "      <td>서울특별시</td>\n",
       "      <td>2015.02</td>\n",
       "      <td>0.70</td>\n",
       "      <td>02</td>\n",
       "      <td>2015</td>\n",
       "    </tr>\n",
       "    <tr>\n",
       "      <th>2</th>\n",
       "      <td>서울특별시</td>\n",
       "      <td>2015.03</td>\n",
       "      <td>0.60</td>\n",
       "      <td>03</td>\n",
       "      <td>2015</td>\n",
       "    </tr>\n",
       "    <tr>\n",
       "      <th>3</th>\n",
       "      <td>서울특별시</td>\n",
       "      <td>2015.04</td>\n",
       "      <td>0.50</td>\n",
       "      <td>04</td>\n",
       "      <td>2015</td>\n",
       "    </tr>\n",
       "    <tr>\n",
       "      <th>4</th>\n",
       "      <td>서울특별시</td>\n",
       "      <td>2015.05</td>\n",
       "      <td>0.40</td>\n",
       "      <td>05</td>\n",
       "      <td>2015</td>\n",
       "    </tr>\n",
       "    <tr>\n",
       "      <th>...</th>\n",
       "      <td>...</td>\n",
       "      <td>...</td>\n",
       "      <td>...</td>\n",
       "      <td>...</td>\n",
       "      <td>...</td>\n",
       "    </tr>\n",
       "    <tr>\n",
       "      <th>17854</th>\n",
       "      <td>제주특별자치도</td>\n",
       "      <td>2014.08</td>\n",
       "      <td>0.40</td>\n",
       "      <td>08</td>\n",
       "      <td>2014</td>\n",
       "    </tr>\n",
       "    <tr>\n",
       "      <th>17855</th>\n",
       "      <td>제주특별자치도</td>\n",
       "      <td>2014.09</td>\n",
       "      <td>0.30</td>\n",
       "      <td>09</td>\n",
       "      <td>2014</td>\n",
       "    </tr>\n",
       "    <tr>\n",
       "      <th>17856</th>\n",
       "      <td>제주특별자치도</td>\n",
       "      <td>2014.1</td>\n",
       "      <td>0.20</td>\n",
       "      <td>01</td>\n",
       "      <td>2014</td>\n",
       "    </tr>\n",
       "    <tr>\n",
       "      <th>17857</th>\n",
       "      <td>제주특별자치도</td>\n",
       "      <td>2014.11</td>\n",
       "      <td>0.30</td>\n",
       "      <td>11</td>\n",
       "      <td>2014</td>\n",
       "    </tr>\n",
       "    <tr>\n",
       "      <th>17858</th>\n",
       "      <td>제주특별자치도</td>\n",
       "      <td>2014.12</td>\n",
       "      <td>0.30</td>\n",
       "      <td>12</td>\n",
       "      <td>2014</td>\n",
       "    </tr>\n",
       "  </tbody>\n",
       "</table>\n",
       "<p>17859 rows × 5 columns</p>\n",
       "</div>"
      ],
      "text/plain": [
       "         구분(1)       시점   데이터   월    연도\n",
       "0        서울특별시  2015.01  0.70  01  2015\n",
       "1        서울특별시  2015.02  0.70  02  2015\n",
       "2        서울특별시  2015.03  0.60  03  2015\n",
       "3        서울특별시  2015.04  0.50  04  2015\n",
       "4        서울특별시  2015.05  0.40  05  2015\n",
       "...        ...      ...   ...  ..   ...\n",
       "17854  제주특별자치도  2014.08  0.40  08  2014\n",
       "17855  제주특별자치도  2014.09  0.30  09  2014\n",
       "17856  제주특별자치도   2014.1  0.20  01  2014\n",
       "17857  제주특별자치도  2014.11  0.30  11  2014\n",
       "17858  제주특별자치도  2014.12  0.30  12  2014\n",
       "\n",
       "[17859 rows x 5 columns]"
      ]
     },
     "execution_count": 88,
     "metadata": {},
     "output_type": "execute_result"
    }
   ],
   "source": [
    "CS"
   ]
  },
  {
   "cell_type": "code",
   "execution_count": 89,
   "id": "8703fdbc-3669-48bf-9b9a-a43267d3b0a1",
   "metadata": {
    "execution": {
     "iopub.execute_input": "2023-11-02T03:11:18.533753Z",
     "iopub.status.busy": "2023-11-02T03:11:18.532164Z",
     "iopub.status.idle": "2023-11-02T03:11:18.555795Z",
     "shell.execute_reply": "2023-11-02T03:11:18.553468Z",
     "shell.execute_reply.started": "2023-11-02T03:11:18.533696Z"
    },
    "tags": []
   },
   "outputs": [],
   "source": [
    "CS = CS.drop(['시점'], axis=1)"
   ]
  },
  {
   "cell_type": "code",
   "execution_count": 101,
   "id": "b7a72e66-c064-4a87-b346-788ae2446e6d",
   "metadata": {
    "execution": {
     "iopub.execute_input": "2023-11-02T03:31:40.892685Z",
     "iopub.status.busy": "2023-11-02T03:31:40.890972Z",
     "iopub.status.idle": "2023-11-02T03:31:40.945876Z",
     "shell.execute_reply": "2023-11-02T03:31:40.944612Z",
     "shell.execute_reply.started": "2023-11-02T03:31:40.892597Z"
    },
    "tags": []
   },
   "outputs": [
    {
     "data": {
      "text/html": [
       "<div>\n",
       "<style scoped>\n",
       "    .dataframe tbody tr th:only-of-type {\n",
       "        vertical-align: middle;\n",
       "    }\n",
       "\n",
       "    .dataframe tbody tr th {\n",
       "        vertical-align: top;\n",
       "    }\n",
       "\n",
       "    .dataframe thead th {\n",
       "        text-align: right;\n",
       "    }\n",
       "</style>\n",
       "<table border=\"1\" class=\"dataframe\">\n",
       "  <thead>\n",
       "    <tr style=\"text-align: right;\">\n",
       "      <th></th>\n",
       "      <th>구분(1)</th>\n",
       "      <th>데이터</th>\n",
       "      <th>월</th>\n",
       "      <th>연도</th>\n",
       "    </tr>\n",
       "  </thead>\n",
       "  <tbody>\n",
       "    <tr>\n",
       "      <th>16622</th>\n",
       "      <td>전라남도</td>\n",
       "      <td>0.60</td>\n",
       "      <td>01</td>\n",
       "      <td>2010</td>\n",
       "    </tr>\n",
       "    <tr>\n",
       "      <th>16802</th>\n",
       "      <td>경상북도</td>\n",
       "      <td>0.60</td>\n",
       "      <td>01</td>\n",
       "      <td>2010</td>\n",
       "    </tr>\n",
       "    <tr>\n",
       "      <th>14322</th>\n",
       "      <td>경기도</td>\n",
       "      <td>1.00</td>\n",
       "      <td>01</td>\n",
       "      <td>2010</td>\n",
       "    </tr>\n",
       "    <tr>\n",
       "      <th>14331</th>\n",
       "      <td>경기도</td>\n",
       "      <td>0.60</td>\n",
       "      <td>01</td>\n",
       "      <td>2010</td>\n",
       "    </tr>\n",
       "    <tr>\n",
       "      <th>16751</th>\n",
       "      <td>경상북도</td>\n",
       "      <td>0.50</td>\n",
       "      <td>01</td>\n",
       "      <td>2010</td>\n",
       "    </tr>\n",
       "    <tr>\n",
       "      <th>...</th>\n",
       "      <td>...</td>\n",
       "      <td>...</td>\n",
       "      <td>...</td>\n",
       "      <td>...</td>\n",
       "    </tr>\n",
       "    <tr>\n",
       "      <th>10876</th>\n",
       "      <td>경상북도</td>\n",
       "      <td>0.30</td>\n",
       "      <td>01</td>\n",
       "      <td>2022</td>\n",
       "    </tr>\n",
       "    <tr>\n",
       "      <th>10867</th>\n",
       "      <td>경상북도</td>\n",
       "      <td>0.50</td>\n",
       "      <td>01</td>\n",
       "      <td>2022</td>\n",
       "    </tr>\n",
       "    <tr>\n",
       "      <th>8390</th>\n",
       "      <td>전라남도</td>\n",
       "      <td>0.60</td>\n",
       "      <td>01</td>\n",
       "      <td>2022</td>\n",
       "    </tr>\n",
       "    <tr>\n",
       "      <th>10910</th>\n",
       "      <td>경상북도</td>\n",
       "      <td>0.20</td>\n",
       "      <td>01</td>\n",
       "      <td>2022</td>\n",
       "    </tr>\n",
       "    <tr>\n",
       "      <th>2664</th>\n",
       "      <td>경기도</td>\n",
       "      <td>0.60</td>\n",
       "      <td>01</td>\n",
       "      <td>2022</td>\n",
       "    </tr>\n",
       "  </tbody>\n",
       "</table>\n",
       "<p>2949 rows × 4 columns</p>\n",
       "</div>"
      ],
      "text/plain": [
       "      구분(1)   데이터   월    연도\n",
       "16622  전라남도  0.60  01  2010\n",
       "16802  경상북도  0.60  01  2010\n",
       "14322   경기도  1.00  01  2010\n",
       "14331   경기도  0.60  01  2010\n",
       "16751  경상북도  0.50  01  2010\n",
       "...     ...   ...  ..   ...\n",
       "10876  경상북도  0.30  01  2022\n",
       "10867  경상북도  0.50  01  2022\n",
       "8390   전라남도  0.60  01  2022\n",
       "10910  경상북도  0.20  01  2022\n",
       "2664    경기도  0.60  01  2022\n",
       "\n",
       "[2949 rows x 4 columns]"
      ]
     },
     "execution_count": 101,
     "metadata": {},
     "output_type": "execute_result"
    }
   ],
   "source": [
    "CS_01"
   ]
  },
  {
   "cell_type": "code",
   "execution_count": 96,
   "id": "2606928c-1d73-43e4-ab15-682e5cd979ea",
   "metadata": {
    "execution": {
     "iopub.execute_input": "2023-11-02T03:13:51.260586Z",
     "iopub.status.busy": "2023-11-02T03:13:51.259815Z",
     "iopub.status.idle": "2023-11-02T03:13:51.284489Z",
     "shell.execute_reply": "2023-11-02T03:13:51.283984Z",
     "shell.execute_reply.started": "2023-11-02T03:13:51.260542Z"
    },
    "tags": []
   },
   "outputs": [],
   "source": [
    "CS_01 = CS[CS['월'].str.contains(\"01\")]"
   ]
  },
  {
   "cell_type": "code",
   "execution_count": 99,
   "id": "11371a12-c6dc-4069-bf29-5e05238ccb47",
   "metadata": {
    "execution": {
     "iopub.execute_input": "2023-11-02T03:15:56.771073Z",
     "iopub.status.busy": "2023-11-02T03:15:56.769553Z",
     "iopub.status.idle": "2023-11-02T03:15:56.787686Z",
     "shell.execute_reply": "2023-11-02T03:15:56.786933Z",
     "shell.execute_reply.started": "2023-11-02T03:15:56.771010Z"
    },
    "tags": []
   },
   "outputs": [],
   "source": [
    "CS_01['데이터'] = CS_01['데이터'].str.split(\"*\").str[0]"
   ]
  },
  {
   "cell_type": "code",
   "execution_count": 104,
   "id": "96cf8dca-83a9-47b1-9883-4cb36350d7c4",
   "metadata": {
    "execution": {
     "iopub.execute_input": "2023-11-02T03:31:59.397687Z",
     "iopub.status.busy": "2023-11-02T03:31:59.397257Z",
     "iopub.status.idle": "2023-11-02T03:31:59.409261Z",
     "shell.execute_reply": "2023-11-02T03:31:59.408313Z",
     "shell.execute_reply.started": "2023-11-02T03:31:59.397658Z"
    },
    "tags": []
   },
   "outputs": [],
   "source": [
    "CS_01 = CS_01[CS_01['구분(1)'].str.contains(\"서울특별시|경기도|강원도\")]"
   ]
  },
  {
   "cell_type": "code",
   "execution_count": 109,
   "id": "22426e65-44b8-4ef4-b4e0-72eb282e4d57",
   "metadata": {
    "execution": {
     "iopub.execute_input": "2023-11-02T03:33:07.342859Z",
     "iopub.status.busy": "2023-11-02T03:33:07.341979Z",
     "iopub.status.idle": "2023-11-02T03:33:07.352608Z",
     "shell.execute_reply": "2023-11-02T03:33:07.351548Z",
     "shell.execute_reply.started": "2023-11-02T03:33:07.342801Z"
    },
    "tags": []
   },
   "outputs": [],
   "source": [
    "CS_01['데이터'] = CS_01['데이터'].astype(float)"
   ]
  },
  {
   "cell_type": "code",
   "execution_count": 113,
   "id": "b7745fd0-3ee4-4217-bf23-0ca086fa349c",
   "metadata": {
    "execution": {
     "iopub.execute_input": "2023-11-02T03:34:08.224695Z",
     "iopub.status.busy": "2023-11-02T03:34:08.223378Z",
     "iopub.status.idle": "2023-11-02T03:34:08.648532Z",
     "shell.execute_reply": "2023-11-02T03:34:08.647618Z",
     "shell.execute_reply.started": "2023-11-02T03:34:08.224640Z"
    },
    "tags": []
   },
   "outputs": [
    {
     "name": "stderr",
     "output_type": "stream",
     "text": [
      "/var/folders/fy/h0_mgq7926d7ggr2rkt29cz80000gn/T/ipykernel_64848/3398764195.py:6: FutureWarning: \n",
      "\n",
      "The `ci` parameter is deprecated. Use `errorbar=('ci', 0)` for the same effect.\n",
      "\n",
      "  sns.lineplot(data=CS_01, x='연도', y='데이터', hue='구분(1)', ci=0)\n"
     ]
    },
    {
     "ename": "TypeError",
     "evalue": "'float' object cannot be interpreted as an integer",
     "output_type": "error",
     "traceback": [
      "\u001b[0;31m---------------------------------------------------------------------------\u001b[0m",
      "\u001b[0;31mTypeError\u001b[0m                                 Traceback (most recent call last)",
      "Cell \u001b[0;32mIn [113], line 8\u001b[0m\n\u001b[1;32m      4\u001b[0m plt\u001b[38;5;241m.\u001b[39mgca()\u001b[38;5;241m.\u001b[39mset_facecolor(\u001b[38;5;124m'\u001b[39m\u001b[38;5;124mnone\u001b[39m\u001b[38;5;124m'\u001b[39m)\n\u001b[1;32m      6\u001b[0m sns\u001b[38;5;241m.\u001b[39mlineplot(data\u001b[38;5;241m=\u001b[39mCS_01, x\u001b[38;5;241m=\u001b[39m\u001b[38;5;124m'\u001b[39m\u001b[38;5;124m연도\u001b[39m\u001b[38;5;124m'\u001b[39m, y\u001b[38;5;241m=\u001b[39m\u001b[38;5;124m'\u001b[39m\u001b[38;5;124m데이터\u001b[39m\u001b[38;5;124m'\u001b[39m, hue\u001b[38;5;241m=\u001b[39m\u001b[38;5;124m'\u001b[39m\u001b[38;5;124m구분(1)\u001b[39m\u001b[38;5;124m'\u001b[39m, ci\u001b[38;5;241m=\u001b[39m\u001b[38;5;241m0\u001b[39m)\n\u001b[0;32m----> 8\u001b[0m plt\u001b[38;5;241m.\u001b[39mylim([x \u001b[38;5;28;01mfor\u001b[39;00m x \u001b[38;5;129;01min\u001b[39;00m \u001b[38;5;28;43mrange\u001b[39;49m\u001b[43m(\u001b[49m\u001b[38;5;241;43m0\u001b[39;49m\u001b[43m,\u001b[49m\u001b[43m \u001b[49m\u001b[38;5;241;43m0.1\u001b[39;49m\u001b[43m,\u001b[49m\u001b[43m \u001b[49m\u001b[38;5;241;43m0.1\u001b[39;49m\u001b[43m)\u001b[49m])\n\u001b[1;32m      9\u001b[0m plt\u001b[38;5;241m.\u001b[39myticks([x \u001b[38;5;28;01mfor\u001b[39;00m x \u001b[38;5;129;01min\u001b[39;00m \u001b[38;5;28mrange\u001b[39m(\u001b[38;5;241m0\u001b[39m, \u001b[38;5;241m1\u001b[39m)])\n\u001b[1;32m     10\u001b[0m plt\u001b[38;5;241m.\u001b[39mshow()\n",
      "\u001b[0;31mTypeError\u001b[0m: 'float' object cannot be interpreted as an integer"
     ]
    },
    {
     "data": {
      "image/png": "[encoded data removed]",
      "text/plain": [
       "<Figure size 1000x700 with 1 Axes>"
      ]
     },
     "metadata": {},
     "output_type": "display_data"
    }
   ],
   "source": [
    "CS_01 = CS_01.sort_values(by=['연도'], ascending=[True])\n",
    "\n",
    "plt.figure(figsize=(10, 7))\n",
    "plt.gca().set_facecolor('none')\n",
    "\n",
    "sns.lineplot(data=CS_01, x='연도', y='데이터', hue='구분(1)', ci=0)\n",
    "\n",
    "plt.ylim([x for x in range(0, 0.1, 0.1)])\n",
    "plt.yticks([x for x in range(0, 1)])\n",
    "plt.show()"
   ]
  },
  {
   "cell_type": "code",
   "execution_count": 114,
   "id": "fda05313-37af-4e3a-a2b3-bc4c9dc5548f",
   "metadata": {
    "execution": {
     "iopub.execute_input": "2023-11-02T03:37:58.496966Z",
     "iopub.status.busy": "2023-11-02T03:37:58.495419Z",
     "iopub.status.idle": "2023-11-02T03:37:58.572019Z",
     "shell.execute_reply": "2023-11-02T03:37:58.569520Z",
     "shell.execute_reply.started": "2023-11-02T03:37:58.496888Z"
    },
    "tags": []
   },
   "outputs": [],
   "source": [
    "# https://www.yna.co.kr/view/AKR20220304174300053"
   ]
  },
  {
   "cell_type": "code",
   "execution_count": null,
   "id": "4b0c845e-2630-4155-8cc3-b75045c9d605",
   "metadata": {},
   "outputs": [],
   "source": []
  }
 ],
 "metadata": {
  "kernelspec": {
   "display_name": "Python 3 (ipykernel)",
   "language": "python",
   "name": "python3"
  },
  "language_info": {
   "codemirror_mode": {
    "name": "ipython",
    "version": 3
   },
   "file_extension": ".py",
   "mimetype": "text/x-python",
   "name": "python",
   "nbconvert_exporter": "python",
   "pygments_lexer": "ipython3",
   "version": "3.11.5"
  }
 },
 "nbformat": 4,
 "nbformat_minor": 5
}
