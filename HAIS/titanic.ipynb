{
 "cells": [
  {
   "cell_type": "code",
   "execution_count": 1,
   "metadata": {},
   "outputs": [
    {
     "ename": "ModuleNotFoundError",
     "evalue": "No module named 'tensorflow'",
     "output_type": "error",
     "traceback": [
      "\u001b[0;31m---------------------------------------------------------------------------\u001b[0m",
      "\u001b[0;31mModuleNotFoundError\u001b[0m                       Traceback (most recent call last)",
      "Cell \u001b[0;32mIn [1], line 7\u001b[0m\n\u001b[1;32m      1\u001b[0m \u001b[38;5;66;03m# import numpy as np\u001b[39;00m\n\u001b[1;32m      2\u001b[0m \u001b[38;5;66;03m# import tensorflow as tf\u001b[39;00m\n\u001b[1;32m      3\u001b[0m \u001b[38;5;66;03m# import pandas as pd\u001b[39;00m\n\u001b[1;32m      4\u001b[0m \u001b[38;5;66;03m# import matplotlib.pyplot as plt\u001b[39;00m\n\u001b[1;32m      6\u001b[0m \u001b[38;5;28;01mimport\u001b[39;00m \u001b[38;5;21;01mnumpy\u001b[39;00m \u001b[38;5;28;01mas\u001b[39;00m \u001b[38;5;21;01mnp\u001b[39;00m\n\u001b[0;32m----> 7\u001b[0m \u001b[38;5;28;01mimport\u001b[39;00m \u001b[38;5;21;01mtensorflow\u001b[39;00m \u001b[38;5;28;01mas\u001b[39;00m \u001b[38;5;21;01mtf\u001b[39;00m\n\u001b[1;32m      8\u001b[0m \u001b[38;5;28;01mimport\u001b[39;00m \u001b[38;5;21;01mpandas\u001b[39;00m \u001b[38;5;28;01mas\u001b[39;00m \u001b[38;5;21;01mpd\u001b[39;00m\n\u001b[1;32m      9\u001b[0m \u001b[38;5;28;01mimport\u001b[39;00m \u001b[38;5;21;01mmatplotlib\u001b[39;00m\u001b[38;5;21;01m.\u001b[39;00m\u001b[38;5;21;01mpyplot\u001b[39;00m \u001b[38;5;28;01mas\u001b[39;00m \u001b[38;5;21;01mplt\u001b[39;00m\n",
      "\u001b[0;31mModuleNotFoundError\u001b[0m: No module named 'tensorflow'"
     ]
    }
   ],
   "source": [
    "# import numpy as np\n",
    "# import tensorflow as tf\n",
    "# import pandas as pd\n",
    "# import matplotlib.pyplot as plt\n",
    "\n",
    "import numpy as np\n",
    "import tensorflow as tf\n",
    "import pandas as pd\n",
    "import matplotlib.pyplot as plt"
   ]
  },
  {
   "cell_type": "code",
   "execution_count": null,
   "metadata": {},
   "outputs": [],
   "source": [
    "# train = pd.read_csv(\"./Titanic-Dataset.csv\", sep=\",\")\n",
    "# test = pd.read_csv(\"./Titanic-Dataset.csv\", sep=\",\")\n",
    "\n",
    "# print(\"데이터 feature값:\",train.columns)\n",
    "# print(\"훈련 데이터 길이:\",len(train))"
   ]
  },
  {
   "cell_type": "code",
   "execution_count": null,
   "metadata": {},
   "outputs": [],
   "source": [
    "# train.drop(['PassengerId','Name','Age','SibSp','Parch','Ticket','Fare','Cabin'],\n",
    "#            inplace=True,\n",
    "#            axis = 1)\n",
    "# test.drop(['PassengerId','Name','Age','SibSp','Parch','Ticket','Fare','Cabin'],\n",
    "#            inplace=True,\n",
    "#            axis = 1)\n",
    "\n",
    "# # 결측값 제거\n",
    "# train.dropna(inplace=True)\n",
    "# print(\"정제된 훈련 데이터 길이:\",len(train))\n",
    "# print(train.head())"
   ]
  },
  {
   "cell_type": "code",
   "execution_count": null,
   "metadata": {},
   "outputs": [],
   "source": [
    "# for ix in train.index:\n",
    "#     # 성별\n",
    "#     if train.loc[ix, 'Sex'] =='male':\n",
    "#         train.loc[ix, 'Sex']=1\n",
    "#     else:\n",
    "#         train.loc[ix, 'Sex']=0\n",
    "    \n",
    "#     # 승선항\n",
    "#     if train.loc[ix, 'Embarked'] =='C':\n",
    "#         train.loc[ix, 'Embarked'] =0\n",
    "#     elif train.loc[ix, 'Embarked']=='Q':\n",
    "#         train.loc[ix, 'Embarked']=1\n",
    "#     else:\n",
    "#         train.loc[ix, 'Embarked']=2"
   ]
  },
  {
   "cell_type": "code",
   "execution_count": null,
   "metadata": {},
   "outputs": [],
   "source": [
    "# tr = train.loc[:800]\n",
    "# ts = train.loc[800:]\n",
    "\n",
    "# # Label값 추출\n",
    "# tr_label= np.ravel(tr.Survived)\n",
    "# tr.drop(['Survived'], inplace = True, axis = 1)\n",
    "# tr = tr.astype(float)\n",
    "\n",
    "# ts_label = np.ravel(ts.Survived)\n",
    "# ts.drop(['Survived'], inplace = True, axis = 1)\n",
    "# ts = ts.astype(float)"
   ]
  },
  {
   "cell_type": "code",
   "execution_count": null,
   "metadata": {},
   "outputs": [],
   "source": [
    "# model = tf.keras.models.Sequential()\n",
    "\n",
    "# model.add(tf.keras.layers.Dense(32, activation='relu',input_shape=(3,)))\n",
    "# model.add(tf.keras.layers.Dropout(0.1))\n",
    "# model.add(tf.keras.layers.Dense(16, activation='relu'))\n",
    "# model.add(tf.keras.layers.Dropout(0.1))\n",
    "# model.add(tf.keras.layers.Dense(1, activation='sigmoid'))\n"
   ]
  },
  {
   "cell_type": "code",
   "execution_count": null,
   "metadata": {},
   "outputs": [],
   "source": [
    "# model.compile(loss='binary_crossentropy',\n",
    "#               optimizer = 'adam',\n",
    "#               metrics = ['accuracy'],\n",
    "#               )\n",
    "\n",
    "# history = model.fit(tr, \n",
    "#                     tr_label, \n",
    "#                     validation_data = (ts, ts_label),\n",
    "#                     epochs = 30, \n",
    "#                     batch_size = 32,\n",
    "#                     verbose = 2)"
   ]
  },
  {
   "cell_type": "code",
   "execution_count": 1,
   "metadata": {},
   "outputs": [
    {
     "name": "stderr",
     "output_type": "stream",
     "text": [
      "2024-09-30 17:14:46.157394: I tensorflow/core/platform/cpu_feature_guard.cc:193] This TensorFlow binary is optimized with oneAPI Deep Neural Network Library (oneDNN) to use the following CPU instructions in performance-critical operations:  AVX2 AVX512F AVX512_VNNI FMA\n",
      "To enable them in other operations, rebuild TensorFlow with the appropriate compiler flags.\n",
      "2024-09-30 17:14:46.306046: I tensorflow/core/util/port.cc:104] oneDNN custom operations are on. You may see slightly different numerical results due to floating-point round-off errors from different computation orders. To turn them off, set the environment variable `TF_ENABLE_ONEDNN_OPTS=0`.\n",
      "2024-09-30 17:14:46.952947: W tensorflow/compiler/xla/stream_executor/platform/default/dso_loader.cc:64] Could not load dynamic library 'libnvinfer.so.7'; dlerror: libnvinfer.so.7: cannot open shared object file: No such file or directory; LD_LIBRARY_PATH: /usr/local/cuda-11.7/lib64:/usr/lib/cuda/include:/usr/lib/cuda/lib64:/usr/lib\n",
      "2024-09-30 17:14:46.953013: W tensorflow/compiler/xla/stream_executor/platform/default/dso_loader.cc:64] Could not load dynamic library 'libnvinfer_plugin.so.7'; dlerror: libnvinfer_plugin.so.7: cannot open shared object file: No such file or directory; LD_LIBRARY_PATH: /usr/local/cuda-11.7/lib64:/usr/lib/cuda/include:/usr/lib/cuda/lib64:/usr/lib\n",
      "2024-09-30 17:14:46.953020: W tensorflow/compiler/tf2tensorrt/utils/py_utils.cc:38] TF-TRT Warning: Cannot dlopen some TensorRT libraries. If you would like to use Nvidia GPU with TensorRT, please make sure the missing libraries mentioned above are installed properly.\n"
     ]
    },
    {
     "name": "stdout",
     "output_type": "stream",
     "text": [
      "데이터 feature값: Index(['PassengerId', 'Survived', 'Pclass', 'Name', 'Sex', 'Age', 'SibSp',\n",
      "       'Parch', 'Ticket', 'Fare', 'Cabin', 'Embarked'],\n",
      "      dtype='object')\n",
      "훈련 데이터 길이: 891\n",
      "정제된 훈련 데이터 길이: 889\n",
      "   Survived  Pclass     Sex Embarked\n",
      "0         0       3    male        S\n",
      "1         1       1  female        C\n",
      "2         1       3  female        S\n",
      "3         1       1  female        S\n",
      "4         0       3    male        S\n"
     ]
    },
    {
     "name": "stderr",
     "output_type": "stream",
     "text": [
      "/home/user/.local/lib/python3.7/site-packages/pandas/core/frame.py:4913: SettingWithCopyWarning: \n",
      "A value is trying to be set on a copy of a slice from a DataFrame\n",
      "\n",
      "See the caveats in the documentation: https://pandas.pydata.org/pandas-docs/stable/user_guide/indexing.html#returning-a-view-versus-a-copy\n",
      "  errors=errors,\n",
      "2024-09-30 17:14:48.861028: I tensorflow/core/platform/cpu_feature_guard.cc:193] This TensorFlow binary is optimized with oneAPI Deep Neural Network Library (oneDNN) to use the following CPU instructions in performance-critical operations:  AVX2 AVX512F AVX512_VNNI FMA\n",
      "To enable them in other operations, rebuild TensorFlow with the appropriate compiler flags.\n"
     ]
    },
    {
     "name": "stdout",
     "output_type": "stream",
     "text": [
      "Epoch 1/30\n"
     ]
    },
    {
     "name": "stderr",
     "output_type": "stream",
     "text": [
      "2024-09-30 17:14:49.272369: I tensorflow/core/common_runtime/gpu/gpu_device.cc:1613] Created device /job:localhost/replica:0/task:0/device:GPU:0 with 6119 MB memory:  -> device: 0, name: Tesla T4, pci bus id: 0000:3b:00.0, compute capability: 7.5\n",
      "2024-09-30 17:14:52.064779: I tensorflow/compiler/xla/service/service.cc:173] XLA service 0x26bc10d0 initialized for platform CUDA (this does not guarantee that XLA will be used). Devices:\n",
      "2024-09-30 17:14:52.064834: I tensorflow/compiler/xla/service/service.cc:181]   StreamExecutor device (0): Tesla T4, Compute Capability 7.5\n",
      "2024-09-30 17:14:52.074472: I tensorflow/compiler/mlir/tensorflow/utils/dump_mlir_util.cc:268] disabling MLIR crash reproducer, set env var `MLIR_CRASH_REPRODUCER_DIRECTORY` to enable.\n",
      "2024-09-30 17:14:52.203935: I tensorflow/compiler/jit/xla_compilation_cache.cc:477] Compiled cluster using XLA!  This line is logged at most once for the lifetime of the process.\n"
     ]
    },
    {
     "name": "stdout",
     "output_type": "stream",
     "text": [
      "25/25 - 4s - loss: 0.6423 - accuracy: 0.6150 - val_loss: 0.6053 - val_accuracy: 0.6333 - 4s/epoch - 144ms/step\n",
      "Epoch 2/30\n",
      "25/25 - 0s - loss: 0.6279 - accuracy: 0.6263 - val_loss: 0.5872 - val_accuracy: 0.6333 - 87ms/epoch - 3ms/step\n",
      "Epoch 3/30\n",
      "25/25 - 0s - loss: 0.6018 - accuracy: 0.6687 - val_loss: 0.5692 - val_accuracy: 0.7111 - 79ms/epoch - 3ms/step\n",
      "Epoch 4/30\n",
      "25/25 - 0s - loss: 0.5765 - accuracy: 0.7000 - val_loss: 0.5522 - val_accuracy: 0.7333 - 69ms/epoch - 3ms/step\n",
      "Epoch 5/30\n",
      "25/25 - 0s - loss: 0.5504 - accuracy: 0.7475 - val_loss: 0.5320 - val_accuracy: 0.7333 - 72ms/epoch - 3ms/step\n",
      "Epoch 6/30\n",
      "25/25 - 0s - loss: 0.5416 - accuracy: 0.7412 - val_loss: 0.5228 - val_accuracy: 0.7556 - 78ms/epoch - 3ms/step\n",
      "Epoch 7/30\n",
      "25/25 - 0s - loss: 0.5332 - accuracy: 0.7625 - val_loss: 0.5105 - val_accuracy: 0.7556 - 74ms/epoch - 3ms/step\n",
      "Epoch 8/30\n",
      "25/25 - 0s - loss: 0.5259 - accuracy: 0.7700 - val_loss: 0.5082 - val_accuracy: 0.7667 - 80ms/epoch - 3ms/step\n",
      "Epoch 9/30\n",
      "25/25 - 0s - loss: 0.5115 - accuracy: 0.7713 - val_loss: 0.4969 - val_accuracy: 0.7667 - 75ms/epoch - 3ms/step\n",
      "Epoch 10/30\n",
      "25/25 - 0s - loss: 0.5096 - accuracy: 0.7688 - val_loss: 0.4897 - val_accuracy: 0.7667 - 78ms/epoch - 3ms/step\n",
      "Epoch 11/30\n",
      "25/25 - 0s - loss: 0.4983 - accuracy: 0.7862 - val_loss: 0.4829 - val_accuracy: 0.7667 - 79ms/epoch - 3ms/step\n",
      "Epoch 12/30\n",
      "25/25 - 0s - loss: 0.4837 - accuracy: 0.7850 - val_loss: 0.4826 - val_accuracy: 0.7667 - 80ms/epoch - 3ms/step\n",
      "Epoch 13/30\n",
      "25/25 - 0s - loss: 0.4809 - accuracy: 0.7912 - val_loss: 0.4846 - val_accuracy: 0.7667 - 75ms/epoch - 3ms/step\n",
      "Epoch 14/30\n",
      "25/25 - 0s - loss: 0.4930 - accuracy: 0.7887 - val_loss: 0.4755 - val_accuracy: 0.7667 - 76ms/epoch - 3ms/step\n",
      "Epoch 15/30\n",
      "25/25 - 0s - loss: 0.4928 - accuracy: 0.7837 - val_loss: 0.4749 - val_accuracy: 0.7667 - 78ms/epoch - 3ms/step\n",
      "Epoch 16/30\n",
      "25/25 - 0s - loss: 0.4752 - accuracy: 0.7925 - val_loss: 0.4686 - val_accuracy: 0.7667 - 80ms/epoch - 3ms/step\n",
      "Epoch 17/30\n",
      "25/25 - 0s - loss: 0.4792 - accuracy: 0.7937 - val_loss: 0.4690 - val_accuracy: 0.7667 - 74ms/epoch - 3ms/step\n",
      "Epoch 18/30\n",
      "25/25 - 0s - loss: 0.4828 - accuracy: 0.7850 - val_loss: 0.4662 - val_accuracy: 0.7667 - 74ms/epoch - 3ms/step\n",
      "Epoch 19/30\n",
      "25/25 - 0s - loss: 0.4776 - accuracy: 0.7975 - val_loss: 0.4686 - val_accuracy: 0.7667 - 70ms/epoch - 3ms/step\n",
      "Epoch 20/30\n",
      "25/25 - 0s - loss: 0.4780 - accuracy: 0.7887 - val_loss: 0.4653 - val_accuracy: 0.7667 - 74ms/epoch - 3ms/step\n",
      "Epoch 21/30\n",
      "25/25 - 0s - loss: 0.4768 - accuracy: 0.7862 - val_loss: 0.4621 - val_accuracy: 0.7667 - 79ms/epoch - 3ms/step\n",
      "Epoch 22/30\n",
      "25/25 - 0s - loss: 0.4671 - accuracy: 0.8025 - val_loss: 0.4614 - val_accuracy: 0.7667 - 81ms/epoch - 3ms/step\n",
      "Epoch 23/30\n",
      "25/25 - 0s - loss: 0.4722 - accuracy: 0.7900 - val_loss: 0.4611 - val_accuracy: 0.7667 - 74ms/epoch - 3ms/step\n",
      "Epoch 24/30\n",
      "25/25 - 0s - loss: 0.4711 - accuracy: 0.7912 - val_loss: 0.4588 - val_accuracy: 0.8111 - 73ms/epoch - 3ms/step\n",
      "Epoch 25/30\n",
      "25/25 - 0s - loss: 0.4749 - accuracy: 0.7837 - val_loss: 0.4594 - val_accuracy: 0.7667 - 73ms/epoch - 3ms/step\n",
      "Epoch 26/30\n",
      "25/25 - 0s - loss: 0.4676 - accuracy: 0.7987 - val_loss: 0.4582 - val_accuracy: 0.7667 - 74ms/epoch - 3ms/step\n",
      "Epoch 27/30\n",
      "25/25 - 0s - loss: 0.4670 - accuracy: 0.7875 - val_loss: 0.4568 - val_accuracy: 0.8111 - 76ms/epoch - 3ms/step\n",
      "Epoch 28/30\n",
      "25/25 - 0s - loss: 0.4730 - accuracy: 0.7975 - val_loss: 0.4582 - val_accuracy: 0.7667 - 73ms/epoch - 3ms/step\n",
      "Epoch 29/30\n",
      "25/25 - 0s - loss: 0.4680 - accuracy: 0.7912 - val_loss: 0.4526 - val_accuracy: 0.8111 - 74ms/epoch - 3ms/step\n",
      "Epoch 30/30\n",
      "25/25 - 0s - loss: 0.4690 - accuracy: 0.7937 - val_loss: 0.4521 - val_accuracy: 0.8111 - 74ms/epoch - 3ms/step\n"
     ]
    },
    {
     "data": {
      "image/png": "[encoded data removed]",
      "text/plain": [
       "<Figure size 432x288 with 1 Axes>"
      ]
     },
     "metadata": {
      "needs_background": "light"
     },
     "output_type": "display_data"
    }
   ],
   "source": [
    "# history_dict = history.history\n",
    "# loss_values = history_dict['loss']\n",
    "# val_loss_values = history_dict['val_loss']\n",
    "# acc = history_dict['accuracy']\n",
    "# epochs = range(1, len(acc)+1)\n",
    "\n",
    "# plt.plot(loss_values)\n",
    "# plt.plot(val_loss_values)\n",
    "# plt.xlabel(\"epoch\")\n",
    "# plt.ylabel('loss')\n",
    "# plt.legend(['train error','test error'], loc='upper left')\n",
    "# plt.show()"
   ]
  }
 ],
 "metadata": {
  "kernelspec": {
   "display_name": "intelligence",
   "language": "python",
   "name": "python3"
  },
  "language_info": {
   "codemirror_mode": {
    "name": "ipython",
    "version": 3
   },
   "file_extension": ".py",
   "mimetype": "text/x-python",
   "name": "python",
   "nbconvert_exporter": "python",
   "pygments_lexer": "ipython3",
   "version": "3.11.7"
  }
 },
 "nbformat": 4,
 "nbformat_minor": 2
}
